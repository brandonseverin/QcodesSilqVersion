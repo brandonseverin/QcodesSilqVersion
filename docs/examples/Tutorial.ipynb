{
 "cells": [
  {
   "cell_type": "markdown",
   "metadata": {},
   "source": [
    "# QCoDeS tutorial \n",
    "Basic overview of QCoDeS"
   ]
  },
  {
   "cell_type": "markdown",
   "metadata": {},
   "source": [
    "## Typical QCodes workflow \n",
    "1. Start up an interactive python session (e.g. using jupyter) \n",
    "2. import desired modules \n",
    "3. instantiate required instruments \n",
    "4. experiment! "
   ]
  },
  {
   "cell_type": "code",
   "execution_count": null,
   "metadata": {
    "collapsed": false,
    "scrolled": false
   },
   "outputs": [],
   "source": [
    "import matplotlib.pyplot as plt\n",
    "from pprint import pprint\n",
    "import time\n",
    "import numpy as np\n",
    "import qcodes as qc\n",
    "\n",
    "%matplotlib notebook"
   ]
  },
  {
   "cell_type": "code",
   "execution_count": null,
   "metadata": {
    "collapsed": true
   },
   "outputs": [],
   "source": [
    "qc.show_subprocess_widget()"
   ]
  },
  {
   "cell_type": "code",
   "execution_count": null,
   "metadata": {
    "collapsed": false
   },
   "outputs": [],
   "source": [
    "# Ensure that multiprocessing is turned on\n",
    "qc.config['core']['legacy_mp'] = True\n",
    "qc.config.save_to_home()"
   ]
  },
  {
   "cell_type": "markdown",
   "metadata": {},
   "source": [
    "## Instantiates all the instruments needed for the demo"
   ]
  },
  {
   "cell_type": "code",
   "execution_count": null,
   "metadata": {
    "collapsed": false
   },
   "outputs": [],
   "source": [
    "# spawn doesn't like function or class definitions in the interpreter\n",
    "# session - had to move them to a file.\n",
    "from toymodel import AModel, MockGates, MockSource, MockMeter, AverageGetter, AverageAndRaw\n",
    "\n",
    "# now create this \"experiment\", note that all these are instruments \n",
    "model = AModel()\n",
    "gates = MockGates('gates', model=model, server_name='')\n",
    "source = MockSource('source', model=model, server_name='')\n",
    "meter = MockMeter('meter', model=model, server_name='')\n",
    "\n",
    "# The station is a container for all instruments that makes it easy \n",
    "# to log meta-data\n",
    "station = qc.Station(gates, source, meter)\n",
    "\n",
    "# it's nice to have the key parameters be part of the global namespace\n",
    "# that way they're objects that we can easily set, get, and slice\n",
    "c0, c1, c2, vsd = gates.chan0, gates.chan1, gates.chan2, source.amplitude"
   ]
  },
  {
   "cell_type": "markdown",
   "metadata": {},
   "source": [
    "### The location provider can be set globally "
   ]
  },
  {
   "cell_type": "code",
   "execution_count": null,
   "metadata": {
    "collapsed": true
   },
   "outputs": [],
   "source": [
    "# dm = qc.data.manager.get_data_manager()\n",
    "loc_provider = qc.data.location.FormatLocation(fmt='data/{date}/#{counter}_{name}_{time}')\n",
    "qc.data.data_set.DataSet.location_provider=loc_provider"
   ]
  },
  {
   "cell_type": "markdown",
   "metadata": {},
   "source": [
    "# Running an experiment \n",
    "\n",
    "### Defining the `Loop` and actions\n",
    "\n",
    "Before you run a measurement loop you do two things:\n",
    "1. You describe what parameter(s) to vary and how. This is the creation of a `Loop` object: `loop = Loop(sweep_values, ...)`\n",
    "2. You describe what to do at each step in the loop. This is `loop.each(*actions)` which converts the `Loop` object into an `ActiveLoop` object. Actions can be:\n",
    "  - measurements (any object with a `.get` method will be interpreted as a measurement)\n",
    "  - `Task`: some callable (which can have arguments with it) to be executed each time through the loop. Does not generate data.\n",
    "  - `Wait`: a specialized `Task` just to wait a certain time.\n",
    "  - `BreakIf`: some condition that, if it returns truthy, breaks (this level of) the loop\n",
    "  - Another `ActiveLoop` to nest inside the outer one.\n",
    "\n",
    "For more details, see issue #232 docs: Write bigger picture"
   ]
  },
  {
   "cell_type": "code",
   "execution_count": null,
   "metadata": {
    "collapsed": false
   },
   "outputs": [],
   "source": [
    "# Notice that one can use an explicit location and `overwrite=True` here so that\n",
    "# running this notebook over and over won't result in extra files.\n",
    "# If you leave these out, you get a new timestamped DataSet each time.\n",
    "\n",
    "loop = qc.Loop(\n",
    "    c0.sweep(0,20,0.1), delay=0.001).each(\n",
    "        meter.amplitude)\n",
    "data = loop.run(name='my_first_measurement')"
   ]
  },
  {
   "cell_type": "code",
   "execution_count": null,
   "metadata": {
    "collapsed": false
   },
   "outputs": [],
   "source": [
    "qc.MatPlot(data.meter_amplitude)"
   ]
  },
  {
   "cell_type": "markdown",
   "metadata": {},
   "source": [
    "## Output of the loop\n",
    "Notice the **\"DataSet\"**.  \n",
    "A loop returns a dataset.  \n",
    "The representation of the dataset shows what arrays it contains and where it is saved.   \n",
    "The dataset initially starts out empty (filled with NAN's) and get's filled while the Loop get's executed. "
   ]
  },
  {
   "cell_type": "markdown",
   "metadata": {},
   "source": [
    "Once the measurement is done, take a look at the file in finder/explorer (the dataset.location should give you the relative path). \n",
    "Note also the snapshot that captures the settings of all instruments at the start of the Loop. \n",
    "This metadata is also accesible from the dataset and captures a snapshot of each instrument listed in the station. "
   ]
  },
  {
   "cell_type": "code",
   "execution_count": null,
   "metadata": {
    "collapsed": true
   },
   "outputs": [],
   "source": [
    "data.metadata"
   ]
  },
  {
   "cell_type": "markdown",
   "metadata": {},
   "source": [
    "## Plotting the loop  II\n",
    "\n",
    "QCodes supports both matplotlib inline plotting and pyqtgraph for plotting. \n",
    "For a comparison see http://pyqtgraph.org/ (actually not that biased)"
   ]
  },
  {
   "cell_type": "markdown",
   "metadata": {},
   "source": [
    "The same API works for plotting a measured dataset or an old  dataset."
   ]
  },
  {
   "cell_type": "markdown",
   "metadata": {},
   "source": [
    "`DataSet` objects are not intended to be instantiated directly, but\n",
    "rather through the helper functions:\n",
    "- `load_data` for existing data sets, including the data currently\n",
    "  being acquired.\n",
    "- `new_data` to make an empty data set to be populated with new\n",
    "  measurements or simulation data. `new_data` is called internally by\n",
    "  `Loop.run()` so is also generally not needed directly."
   ]
  },
  {
   "cell_type": "code",
   "execution_count": null,
   "metadata": {
    "collapsed": false,
    "scrolled": false
   },
   "outputs": [],
   "source": [
    "loaded_data = qc.load_data('data/2017-02-28/#002_my_first_measurement_14-34-03')\n",
    "plot = qc.MatPlot(loaded_data.meter_amplitude)"
   ]
  },
  {
   "cell_type": "markdown",
   "metadata": {},
   "source": [
    "## Example: multiple 2D measurements with live plotting"
   ]
  },
  {
   "cell_type": "code",
   "execution_count": null,
   "metadata": {
    "collapsed": false
   },
   "outputs": [],
   "source": [
    "loop = qc.Loop(\n",
    "    c1[-15:15:1], 0.01).loop(\n",
    "        c0[-15:12:.5], 0.001).each(\n",
    "            meter.amplitude, # first measurement, at c2=0 -> amplitude_0 bcs it's action 0\n",
    "            qc.Task(c2.set, 1), # action 1 -> c2.set(1)\n",
    "            qc.Wait(0.001),\n",
    "            meter.amplitude, # second measurement, at c2=1 -> amplitude_4 bcs it's action 4\n",
    "            qc.Task(c2.set, 0)\n",
    "    )\n",
    "data = loop.run(name='2D_test')"
   ]
  },
  {
   "cell_type": "markdown",
   "metadata": {},
   "source": [
    "### Plot with matplotlib "
   ]
  },
  {
   "cell_type": "code",
   "execution_count": null,
   "metadata": {
    "collapsed": false
   },
   "outputs": [],
   "source": [
    "data.sync()"
   ]
  },
  {
   "cell_type": "code",
   "execution_count": null,
   "metadata": {
    "collapsed": false,
    "scrolled": false
   },
   "outputs": [],
   "source": [
    "plot = qc.MatPlot(data.meter_amplitude_0, cmap=plt.cm.hot, subplots=(1, 2))\n",
    "plot[1].add(data.meter_amplitude_3, cmap=plt.cm.hot)\n",
    "# data2 = loop.with_bg_task(plot.update, plot.save,  0.05).run()"
   ]
  },
  {
   "cell_type": "markdown",
   "metadata": {},
   "source": [
    "### The equivalent in QtPlot"
   ]
  },
  {
   "cell_type": "code",
   "execution_count": null,
   "metadata": {
    "collapsed": true
   },
   "outputs": [],
   "source": [
    "loop = qc.Loop(\n",
    "    c1[-15:15:1], 0.01).loop(\n",
    "        c0[-15:12:.5], 0.001).each(\n",
    "            meter.amplitude, # first measurement, at c2=0 -> amplitude_0 bcs it's action 0\n",
    "            qc.Task(c2.set, 1), # action 1 -> c2.set(1)\n",
    "            qc.Wait(0.001),\n",
    "            meter.amplitude, # second measurement, at c2=1 -> amplitude_4 bcs it's action 4\n",
    "            qc.Task(c2.set, 0)\n",
    "    )\n",
    "data = loop.run(name='2D_test')"
   ]
  },
  {
   "cell_type": "code",
   "execution_count": null,
   "metadata": {
    "collapsed": false
   },
   "outputs": [],
   "source": [
    "data.sync()\n",
    "\n",
    "plotQ = qc.QtPlot()\n",
    "plotQ.add(data.meter_amplitude_0, figsize=(1200, 500))\n",
    "plotQ.add(data.meter_amplitude_3, subplot=2)"
   ]
  },
  {
   "cell_type": "markdown",
   "metadata": {},
   "source": [
    "### Example same outer loop, different inner loop "
   ]
  },
  {
   "cell_type": "code",
   "execution_count": null,
   "metadata": {
    "collapsed": false
   },
   "outputs": [],
   "source": [
    "loop3 = qc.Loop(\n",
    "    c1[-15:15:1], 0.1).each(\n",
    "        qc.Task(c0.set, -10),\n",
    "        qc.Task(c2.set, 0),\n",
    "        # a 1D measurement\n",
    "        meter.amplitude,\n",
    "        # a 2D sweep, .each is actually unnecessary because this is the default measurement\n",
    "        qc.Loop(\n",
    "            c0[-15:15:1], 0.001).each(\n",
    "                meter.amplitude),\n",
    "        qc.Task(c0.set, -10),\n",
    "        # a 2D sweep with the same outer but different inner loop\n",
    "        qc.Loop(\n",
    "            c2[-10:10:0.2], 0.001).each(\n",
    "                meter.amplitude),\n",
    "        AverageGetter(meter.amplitude, c2[-10:10:0.2], 0.001)\n",
    ")\n",
    "data = loop3.run(name='TwoD_different_inner_test') "
   ]
  },
  {
   "cell_type": "markdown",
   "metadata": {},
   "source": [
    "### several plots updating simultaneously (Currently broken on matplotlib)"
   ]
  },
  {
   "cell_type": "code",
   "execution_count": null,
   "metadata": {
    "collapsed": false
   },
   "outputs": [],
   "source": [
    "data.sync()"
   ]
  },
  {
   "cell_type": "code",
   "execution_count": null,
   "metadata": {
    "collapsed": false
   },
   "outputs": [],
   "source": [
    "plotQ = qc.QtPlot()\n",
    "plotQ.add(data.meter_amplitude_3_0)\n",
    "plotQ.add(data.meter_amplitude_5_0, cmap='viridis', subplot=2)\n",
    "plotQ.add(data.meter_avg_amplitude, subplot=3)\n",
    "# data = loop3.with_bg_task(plotQ.update, plotQ.save).run()"
   ]
  },
  {
   "cell_type": "markdown",
   "metadata": {},
   "source": [
    "### Example 2D scan and average\n",
    "\n",
    " An example of a parameter that returns several values of different dimension\n",
    " This produces the last two arrays from data3, but only takes the data once."
   ]
  },
  {
   "cell_type": "code",
   "execution_count": null,
   "metadata": {
    "collapsed": false
   },
   "outputs": [],
   "source": [
    "loop4 = qc.Loop(\n",
    "    c1[-15:15:1], 0.01).each(\n",
    "        AverageAndRaw(meter.amplitude, c2[-10:10:0.2], 0.001)\n",
    ")\n",
    "data4 = loop4.run(name='TwoD_average_test')"
   ]
  },
  {
   "cell_type": "code",
   "execution_count": null,
   "metadata": {
    "collapsed": false
   },
   "outputs": [],
   "source": [
    "data.sync()"
   ]
  },
  {
   "cell_type": "code",
   "execution_count": null,
   "metadata": {
    "collapsed": false,
    "scrolled": false
   },
   "outputs": [],
   "source": [
    "plotQ = qc.QtPlot()\n",
    "plotQ.add(data4.meter_amplitude, figsize=(1200, 500), cmap='viridis')\n",
    "plotQ.add(data4.meter_avg_amplitude, subplot=2)"
   ]
  }
 ],
 "metadata": {
  "anaconda-cloud": {},
  "kernelspec": {
   "display_name": "Python [default]",
   "language": "python",
   "name": "python3"
  },
  "language_info": {
   "codemirror_mode": {
    "name": "ipython",
    "version": 3
   },
   "file_extension": ".py",
   "mimetype": "text/x-python",
   "name": "python",
   "nbconvert_exporter": "python",
   "pygments_lexer": "ipython3",
   "version": "3.5.2"
  }
 },
 "nbformat": 4,
 "nbformat_minor": 0
}
