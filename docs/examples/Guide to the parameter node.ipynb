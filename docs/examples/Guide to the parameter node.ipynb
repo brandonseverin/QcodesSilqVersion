{
 "cells": [
  {
   "cell_type": "markdown",
   "metadata": {},
   "source": [
    "# Guide to the ParameterNode"
   ]
  },
  {
   "cell_type": "markdown",
   "metadata": {},
   "source": [
    "The `ParameterNode` is a container that can hold parameters, and also other `ParameterNodes`.  \n",
    "In a way, one can see a ParameterNode as a dictionary, where its items can either be other dictionaries (ParameterNodes), or values (Parameters).\n",
    "\n",
    "One example of a `ParameterNode` is an `Instrument`, though the `ParameterNode` does not need to be limited to actual instruments."
   ]
  },
  {
   "cell_type": "markdown",
   "metadata": {},
   "source": [
    "## ParameterNode with Parameters"
   ]
  },
  {
   "cell_type": "markdown",
   "metadata": {},
   "source": [
    "Here we create a ParameterNode and add a Parameter to it.  \n",
    "Note that we do not need to specify the parameter name, it is automatically deduced from the attribute name:"
   ]
  },
  {
   "cell_type": "code",
   "execution_count": null,
   "metadata": {},
   "outputs": [
    {
     "name": "stdout",
     "output_type": "stream",
     "text": [
      "node.p.name = p\n"
     ]
    }
   ],
   "source": [
    "from qcodes import ParameterNode, Parameter\n",
    "\n",
    "node = ParameterNode('node')\n",
    "node.p = Parameter(set_cmd=None, initial_value=1)  # Can also use node.add_parameter('p', set_cmd=None)\n",
    "print('node.p.name =', node.p.name)"
   ]
  },
  {
   "cell_type": "markdown",
   "metadata": {},
   "source": [
    "The `Parameter` is registered in the ParameterNode's attribute `parameters`:"
   ]
  },
  {
   "cell_type": "code",
   "execution_count": null,
   "metadata": {},
   "outputs": [
    {
     "data": {
      "text/plain": [
       "{'p': <qcodes.instrument.parameter.Parameter: p at 60981088>}"
      ]
     },
     "execution_count": 2,
     "metadata": {},
     "output_type": "execute_result"
    }
   ],
   "source": [
    "node.parameters"
   ]
  },
  {
   "cell_type": "markdown",
   "metadata": {},
   "source": [
    "Similarly, `ParameterNode` is added as the parent of the `Parameter`:"
   ]
  },
  {
   "cell_type": "code",
   "execution_count": null,
   "metadata": {},
   "outputs": [
    {
     "data": {
      "text/plain": [
       "ParameterNode node containing 1 parameters"
      ]
     },
     "execution_count": 3,
     "metadata": {},
     "output_type": "execute_result"
    }
   ],
   "source": [
    "node.p.parent"
   ]
  },
  {
   "cell_type": "markdown",
   "metadata": {},
   "source": [
    "This is also reflected when we get a string representation of the parameter:"
   ]
  },
  {
   "cell_type": "code",
   "execution_count": null,
   "metadata": {},
   "outputs": [
    {
     "data": {
      "text/plain": [
       "'node_p'"
      ]
     },
     "execution_count": 4,
     "metadata": {},
     "output_type": "execute_result"
    }
   ],
   "source": [
    "str(node.p)"
   ]
  },
  {
   "cell_type": "markdown",
   "metadata": {},
   "source": [
    "**Note**: Once a `Parameter` is added to a `ParameterNode`, adding the `Parameter` to other `ParameterNodes` does not change it's parent"
   ]
  },
  {
   "cell_type": "markdown",
   "metadata": {},
   "source": [
    "## ParameterNode containing ParameterNodes"
   ]
  },
  {
   "cell_type": "markdown",
   "metadata": {},
   "source": [
    "A ParameterNode can also contain other ParameterNodes:"
   ]
  },
  {
   "cell_type": "code",
   "execution_count": null,
   "metadata": {},
   "outputs": [
    {
     "data": {
      "text/plain": [
       "'node_subnode_p'"
      ]
     },
     "execution_count": 5,
     "metadata": {},
     "output_type": "execute_result"
    }
   ],
   "source": [
    "node.subnode = ParameterNode()\n",
    "\n",
    "node.subnode.p = Parameter(set_cmd=None)\n",
    "\n",
    "str(node.subnode.p)"
   ]
  },
  {
   "cell_type": "markdown",
   "metadata": {},
   "source": [
    "## Simplified snapshotting"
   ]
  },
  {
   "cell_type": "markdown",
   "metadata": {},
   "source": [
    "When performing a measurement, a snapshot is created of all Parameters and ParameterNodes in the station.  \n",
    "These snapshots can become quite messy:"
   ]
  },
  {
   "cell_type": "code",
   "execution_count": null,
   "metadata": {},
   "outputs": [
    {
     "data": {
      "text/plain": [
       "{'functions': {},\n",
       " 'submodules': {},\n",
       " '__class__': 'qcodes.instrument.parameter_node.ParameterNode',\n",
       " 'parameters': {'p': {'value': 1,\n",
       "   'ts': '2018-08-30 10:03:43',\n",
       "   'raw_value': 1,\n",
       "   '__class__': 'qcodes.instrument.parameter.Parameter',\n",
       "   'label': 'P',\n",
       "   'full_name': 'node_p',\n",
       "   'name': 'p'}},\n",
       " 'parameter_nodes': {'subnode': {'functions': {},\n",
       "   'submodules': {},\n",
       "   '__class__': 'qcodes.instrument.parameter_node.ParameterNode',\n",
       "   'parameters': {'p': {'value': None,\n",
       "     'ts': None,\n",
       "     'raw_value': None,\n",
       "     '__class__': 'qcodes.instrument.parameter.Parameter',\n",
       "     'label': 'P',\n",
       "     'full_name': 'node_subnode_p',\n",
       "     'name': 'p'}},\n",
       "   'parameter_nodes': {},\n",
       "   'name': 'subnode'}},\n",
       " 'name': 'node'}"
      ]
     },
     "execution_count": 6,
     "metadata": {},
     "output_type": "execute_result"
    }
   ],
   "source": [
    "node.snapshot()"
   ]
  },
  {
   "cell_type": "markdown",
   "metadata": {},
   "source": [
    "Depending on the type of ParameterNode, we may only be interested in the values of the parameters and nodes.  \n",
    "For this reason, we can improve the readability of the snapshot by turning on `simplify_snapshot`:"
   ]
  },
  {
   "cell_type": "code",
   "execution_count": null,
   "metadata": {},
   "outputs": [],
   "source": [
    "node.simplify_snapshot = True\n",
    "node.subnode.simplify_snapshot = True"
   ]
  },
  {
   "cell_type": "code",
   "execution_count": null,
   "metadata": {},
   "outputs": [
    {
     "data": {
      "text/plain": [
       "{'__class__': 'qcodes.instrument.parameter_node.ParameterNode',\n",
       " 'p': 1,\n",
       " 'subnode': {'__class__': 'qcodes.instrument.parameter_node.ParameterNode',\n",
       "  'p': None}}"
      ]
     },
     "execution_count": 8,
     "metadata": {},
     "output_type": "execute_result"
    }
   ],
   "source": [
    "node.snapshot()"
   ]
  },
  {
   "cell_type": "markdown",
   "metadata": {},
   "source": [
    "We can also print a snapshot of all parameters and parameter nodes:"
   ]
  },
  {
   "cell_type": "code",
   "execution_count": null,
   "metadata": {},
   "outputs": [
    {
     "name": "stdout",
     "output_type": "stream",
     "text": [
      "node :\n",
      "\tparameter value\n",
      "--------------------------------------------------------------------------------\n",
      "p :\t1 \n",
      "\n",
      "node_subnode :\n",
      "\tparameter value\n",
      "--------------------------------------------------------------------------------\n",
      "p :\tNone \n"
     ]
    }
   ],
   "source": [
    "node.print_snapshot()"
   ]
  },
  {
   "cell_type": "markdown",
   "metadata": {},
   "source": [
    "## Accessing Parameters as attributes"
   ]
  },
  {
   "cell_type": "markdown",
   "metadata": {},
   "source": [
    "One may have noticed that getting/setting a parameter is different from standard python classes.  \n",
    "For parameters, this is done by function calls:"
   ]
  },
  {
   "cell_type": "code",
   "execution_count": null,
   "metadata": {},
   "outputs": [
    {
     "data": {
      "text/plain": [
       "42"
      ]
     },
     "execution_count": 10,
     "metadata": {},
     "output_type": "execute_result"
    }
   ],
   "source": [
    "node = ParameterNode()\n",
    "node.p = Parameter(set_cmd=None)\n",
    "node.p(42)  # Setting value\n",
    "node.p()  # Getting value"
   ]
  },
  {
   "cell_type": "markdown",
   "metadata": {},
   "source": [
    "Compare this to a standard python class, where the attribute behaves just like the variable it represents"
   ]
  },
  {
   "cell_type": "code",
   "execution_count": null,
   "metadata": {},
   "outputs": [
    {
     "data": {
      "text/plain": [
       "1"
      ]
     },
     "execution_count": 11,
     "metadata": {},
     "output_type": "execute_result"
    }
   ],
   "source": [
    "class C:\n",
    "    pass\n",
    "    \n",
    "c = C()\n",
    "c.p = 1\n",
    "c.p"
   ]
  },
  {
   "cell_type": "markdown",
   "metadata": {},
   "source": [
    "This can be confusing, especially if we want to convert abstract classes into `ParameterNodes` and `Parameters`.  \n",
    "We would need to remember which classes are and are not ParameterNodes, and which attributes are and are not Parameters.  \n",
    "As a solution to this problem, we can pass the keyword argument `use_as_atttributes`:"
   ]
  },
  {
   "cell_type": "code",
   "execution_count": null,
   "metadata": {},
   "outputs": [
    {
     "data": {
      "text/plain": [
       "42"
      ]
     },
     "execution_count": 12,
     "metadata": {},
     "output_type": "execute_result"
    }
   ],
   "source": [
    "node = ParameterNode(use_as_attributes=True)\n",
    "node.p = Parameter(set_cmd=None)\n",
    "node.p = 42  # Setting value\n",
    "node.p  # Getting value"
   ]
  },
  {
   "cell_type": "markdown",
   "metadata": {},
   "source": [
    "We see that now the Parameter attributes behave just like the variables they represent.  \n",
    "There are cases, however, where you still want to access the Parameter object instead of its value.  \n",
    "In this case, you can access the Parameter like you would in a dictionary:"
   ]
  },
  {
   "cell_type": "code",
   "execution_count": null,
   "metadata": {},
   "outputs": [
    {
     "name": "stdout",
     "output_type": "stream",
     "text": [
      "<qcodes.instrument.parameter.Parameter: p at 451256728>\n"
     ]
    },
    {
     "data": {
      "text/plain": [
       "{'value': 42,\n",
       " 'ts': '2018-08-30 10:03:43',\n",
       " 'raw_value': 42,\n",
       " '__class__': 'qcodes.instrument.parameter.Parameter',\n",
       " 'label': 'P',\n",
       " 'full_name': 'p',\n",
       " 'name': 'p'}"
      ]
     },
     "execution_count": 13,
     "metadata": {},
     "output_type": "execute_result"
    }
   ],
   "source": [
    "print(repr(node['p']))\n",
    "node['p'].snapshot()"
   ]
  },
  {
   "cell_type": "markdown",
   "metadata": {},
   "source": [
    "**Note**: The option `use_as_attributes` can have unintended consequences, as every call to the attribute will trigger it's `get` function.  \n",
    "While this is properly handled for most functions (e.g. `vars(node)`), it could cause unnecessary calls if this is not taken into account:"
   ]
  },
  {
   "cell_type": "code",
   "execution_count": null,
   "metadata": {},
   "outputs": [
    {
     "name": "stdout",
     "output_type": "stream",
     "text": [
      "Get command called\n",
      "None\n",
      "Get command called\n",
      "None\n",
      "Get command called\n",
      "None\n",
      "Get command called\n",
      "None\n",
      "Get command called\n",
      "None\n"
     ]
    }
   ],
   "source": [
    "node = ParameterNode(use_as_attributes=True)\n",
    "node.p = Parameter(get_cmd=lambda: print('Get command called'))\n",
    "\n",
    "for k in range(5):\n",
    "    print(node.p)"
   ]
  },
  {
   "cell_type": "markdown",
   "metadata": {},
   "source": [
    "As a general rule, all Instruments should have `use_as_attributes=False` to ensure that we don't accidentally perform actions on instruments that may negatively impact the experiment.  \n",
    "For more abstract ParameterNodes, especially ones where parameters don't perform ancillary get/set functions, using `use_as_attributes=True` is preferred."
   ]
  }
 ],
 "metadata": {
  "kernelspec": {
   "display_name": "Python 3",
   "language": "python",
   "name": "python3"
  },
  "language_info": {
   "codemirror_mode": {
    "name": "ipython",
    "version": 3
   },
   "file_extension": ".py",
   "mimetype": "text/x-python",
   "name": "python",
   "nbconvert_exporter": "python",
   "pygments_lexer": "ipython3",
   "version": "3.6.4"
  }
 },
 "nbformat": 4,
 "nbformat_minor": 2
}
